{
 "cells": [
  {
   "cell_type": "code",
   "execution_count": 9,
   "id": "f5fcc1a7-b287-4875-ac38-97df939a35d8",
   "metadata": {},
   "outputs": [],
   "source": [
    "\n",
    "import streamlit\n",
    "from streamlit_folium import st_folium\n",
    "import folium\n",
    "import pandas as pd\n",
    "import geopandas as gpd\n",
    "\n",
    "from shapely.geometry import Point"
   ]
  },
  {
   "cell_type": "code",
   "execution_count": 2,
   "id": "0f3236d2-136b-4140-bc7a-5f657a2d1535",
   "metadata": {},
   "outputs": [],
   "source": [
    "\n",
    "# import streamlit\n",
    "# from streamlit_folium import st_folium\n",
    "# import folium\n",
    "\n",
    "\n",
    "m = folium.Map(location=[39.000,70.000], zoom_start=10)"
   ]
  },
  {
   "cell_type": "code",
   "execution_count": 4,
   "id": "b0c93e93-bc95-4b03-aba8-13d9a7dd9565",
   "metadata": {},
   "outputs": [
    {
     "data": {
      "text/plain": [
       "<folium.map.Marker at 0x7f079db38850>"
      ]
     },
     "execution_count": 4,
     "metadata": {},
     "output_type": "execute_result"
    }
   ],
   "source": [
    "\n",
    "# import streamlit\n",
    "# from streamlit_folium import st_folium\n",
    "# import folium\n",
    "\n",
    "\n",
    "m = folium.Map(location=[39.000,70.000], zoom_start=10)\n",
    "folium.Marker(\n",
    "    location=[39.000,70.000],\n",
    "    popup= 'Test' ,\n",
    "    tooltip='test'\n",
    "    ).add_to(m)"
   ]
  },
  {
   "cell_type": "code",
   "execution_count": 5,
   "id": "f5716a12-fca8-4dc5-a132-34c42d9caa15",
   "metadata": {},
   "outputs": [
    {
     "name": "stderr",
     "output_type": "stream",
     "text": [
      "2024-01-29 19:04:37.633 \n",
      "  \u001b[33m\u001b[1mWarning:\u001b[0m to view this Streamlit app on a browser, run it with the following\n",
      "  command:\n",
      "\n",
      "    streamlit run /home/joakim/anaconda3/lib/python3.9/site-packages/ipykernel_launcher.py [ARGUMENTS]\n"
     ]
    }
   ],
   "source": [
    "st_data = st_folium(m)"
   ]
  },
  {
   "cell_type": "code",
   "execution_count": 10,
   "id": "8d3071c6-ca0d-4427-bb2e-939eda4cd197",
   "metadata": {},
   "outputs": [],
   "source": [
    "ref_point_lon = 9.6929923\n",
    "ref_point_lat = 62.5931427"
   ]
  },
  {
   "cell_type": "code",
   "execution_count": 11,
   "id": "ec754a6d-958b-4789-a7eb-94a70a26a019",
   "metadata": {},
   "outputs": [
    {
     "data": {
      "image/svg+xml": [
       "<svg xmlns=\"http://www.w3.org/2000/svg\" xmlns:xlink=\"http://www.w3.org/1999/xlink\" width=\"100.0\" height=\"100.0\" viewBox=\"8.6929923 61.5931427 2.0 2.0\" preserveAspectRatio=\"xMinYMin meet\"><g transform=\"matrix(1,0,0,-1,0,125.1862854)\"><circle cx=\"9.6929923\" cy=\"62.5931427\" r=\"0.06\" stroke=\"#555555\" stroke-width=\"0.02\" fill=\"#66cc99\" opacity=\"0.6\" /></g></svg>"
      ],
      "text/plain": [
       "<POINT (9.693 62.593)>"
      ]
     },
     "execution_count": 11,
     "metadata": {},
     "output_type": "execute_result"
    }
   ],
   "source": [
    "ref_point"
   ]
  }
 ],
 "metadata": {
  "kernelspec": {
   "display_name": "Python 3 (ipykernel)",
   "language": "python",
   "name": "python3"
  },
  "language_info": {
   "codemirror_mode": {
    "name": "ipython",
    "version": 3
   },
   "file_extension": ".py",
   "mimetype": "text/x-python",
   "name": "python",
   "nbconvert_exporter": "python",
   "pygments_lexer": "ipython3",
   "version": "3.9.18"
  }
 },
 "nbformat": 4,
 "nbformat_minor": 5
}
